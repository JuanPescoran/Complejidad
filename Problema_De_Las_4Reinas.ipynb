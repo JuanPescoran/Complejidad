{
  "nbformat": 4,
  "nbformat_minor": 0,
  "metadata": {
    "colab": {
      "provenance": [],
      "authorship_tag": "ABX9TyNdFJkAWZuiJfXujJd/zbgw",
      "include_colab_link": true
    },
    "kernelspec": {
      "name": "python3",
      "display_name": "Python 3"
    },
    "language_info": {
      "name": "python"
    }
  },
  "cells": [
    {
      "cell_type": "markdown",
      "metadata": {
        "id": "view-in-github",
        "colab_type": "text"
      },
      "source": [
        "<a href=\"https://colab.research.google.com/github/JuanPescoran/Complejidad/blob/main/Problema_De_Las_4Reinas.ipynb\" target=\"_parent\"><img src=\"https://colab.research.google.com/assets/colab-badge.svg\" alt=\"Open In Colab\"/></a>"
      ]
    },
    {
      "cell_type": "code",
      "execution_count": null,
      "metadata": {
        "colab": {
          "base_uri": "https://localhost:8080/",
          "height": 535
        },
        "id": "k8whh2EkSgfi",
        "outputId": "1221ff69-d1ef-4c35-fa9d-f5c2095e3657"
      },
      "outputs": [
        {
          "output_type": "stream",
          "name": "stdout",
          "text": [
            "Solución encontrada:\n",
            "0 0 1 0 \n",
            "1 0 0 0 \n",
            "0 0 0 1 \n",
            "0 1 0 0 \n"
          ]
        },
        {
          "output_type": "display_data",
          "data": {
            "text/plain": [
              "<Figure size 640x480 with 1 Axes>"
            ],
            "image/png": "[encoded data removed]"
          },
          "metadata": {}
        },
        {
          "output_type": "execute_result",
          "data": {
            "text/plain": [
              "True"
            ]
          },
          "metadata": {},
          "execution_count": 3
        }
      ],
      "source": [
        "import matplotlib.pyplot as plt\n",
        "\n",
        "def is_safe(board, row, col): # Verifica si es seguro colocar una reina en la posición (row, col)\n",
        "\n",
        "    for i in range(col):  # Verificar la fila\n",
        "        if board[row][i] == 1:\n",
        "            return False\n",
        "\n",
        "    for i, j in zip(range(row, -1, -1), range(col, -1, -1)):  # Verificar la diagonal superior izquierda\n",
        "        if board[i][j] == 1:\n",
        "            return False\n",
        "\n",
        "    for i, j in zip(range(row, 4, 1), range(col, -1, -1)):  # Verificar la diagonal inferior izquierda\n",
        "        if board[i][j] == 1:\n",
        "            return False\n",
        "\n",
        "    return True\n",
        "\n",
        "def solve_n_queens_util(board, col):  # Función auxiliar para resolver el problema de las 4 reinas utilizando backtracking\n",
        "\n",
        "    if col >= 4:  # Si todas las reinas están colocadas correctamente, retorna True\n",
        "        return True\n",
        "\n",
        "    for i in range(4):  # Probar cada fila en esta columna\n",
        "        if is_safe(board, i, col):\n",
        "            board[i][col] = 1 # Si es seguro colocar una reina en esta posición, hacerlo\n",
        "\n",
        "            if solve_n_queens_util(board, col + 1) == True: # Recursivamente intentar colocar el resto de las reinas\n",
        "                return True\n",
        "\n",
        "            board[i][col] = 0 # Si colocar una reina en la posición actual no lleva a una solución, retroceder y probar otra posición\n",
        "\n",
        "    return False # Si no se puede colocar la reina en ninguna fila en esta columna, entonces retorna False\n",
        "\n",
        "def solve_n_queens():  # Función principal para resolver el problema de las 4 reinas\n",
        "\n",
        "    board = [[0]*4 for _ in range(4)] # Crear un tablero 4x4 inicializado con ceros\n",
        "\n",
        "    if solve_n_queens_util(board, 0) == False:  # Llamar a la función auxiliar para encontrar la solución\n",
        "        print(\"No hay solución\")\n",
        "        return False\n",
        "\n",
        "    print(\"Solución encontrada:\") # Imprimir la solución\n",
        "    for i in range(4):\n",
        "        for j in range(4):\n",
        "            print(board[i][j], end=\" \")\n",
        "        print()\n",
        "\n",
        "    plt.imshow(board, cmap='binary')  # Graficar el tablero con las reinas\n",
        "    plt.title('Tablero con las 4 reinas') # Titulo que aparece arriba del tablero\n",
        "    plt.xticks([])\n",
        "    plt.yticks([])\n",
        "    plt.show()\n",
        "\n",
        "    return True\n",
        "\n",
        "solve_n_queens() # Llamar a la función principal"
      ]
    }
  ]
}